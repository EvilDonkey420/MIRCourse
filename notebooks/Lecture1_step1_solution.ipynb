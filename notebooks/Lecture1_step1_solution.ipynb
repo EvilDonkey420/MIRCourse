{
 "cells": [
  {
   "cell_type": "markdown",
   "metadata": {},
   "source": [
    "### Lecture 1: Low level descriptors\n",
    "\n",
    "In this example, you will be implementing some of the low level feature extraction functions and applying those in analysis of a tiny dataset. \n",
    "\n",
    "Your contribution is expected in implementing parts of functions in the second cell. Please do not modify other parts of the code. We will go through it quickly in the lecture.\n",
    "\n",
    "Your parts are marked with labels: #Your code starts here ... #Your code ends here\n",
    "\n",
    "------\n",
    "To form a larger dataset for this example, use the FreeSound example: https://github.com/MTG/MIRCourse/blob/master/notebooks/DownloadDataFromFreeSound_noToken.ipynb with query strings:'kiss' and 'whistle', setting a larger value for maxNumFilePerInst. The tiny set was created by setting maxNumFilePerInst=10 and further manually removing files which contained other sounds than 'kiss' or 'whistle'\n",
    "\n",
    "The variable names: <instrumentX> is misleading in this example with the queries 'kiss' and 'whistle', but in the homework, you are expected to apply the same code on instrument sounds. Then naming will make sense. For this example, you can assume there are two categories of instruments 'kiss' and 'whistle', with which one can create different examples of kiss and whistle sounds. "
   ]
  },
  {
   "cell_type": "code",
   "execution_count": 1,
   "metadata": {},
   "outputs": [],
   "source": [
    "import os\n",
    "import sys\n",
    "import numpy as np\n",
    "from scipy.fftpack import fft\n",
    "from scipy.signal import get_window\n",
    "import matplotlib.pyplot as plt\n",
    "import essentia.standard as ess\n",
    "\n",
    "%matplotlib inline\n",
    "\n",
    "#---Functions already implemented (do not modify contents of this cell) ---\n",
    "\n",
    "#Container for analysis parameters\n",
    "class AnalysisParams:\n",
    "    def __init__(self,windowSize,hopSize,windowFunction,fftN,fs):\n",
    "        '''\n",
    "        windowSize: milliseconds,\n",
    "        hopSize: milliseconds,\n",
    "        windowFunction: str ('blackman','hanning',...)\n",
    "        fftN: int\n",
    "        '''\n",
    "        self.windowSize = windowSize\n",
    "        self.hopSize = hopSize\n",
    "        self.windowFunction = windowFunction\n",
    "        self.fftN=fftN\n",
    "        self.fs=fs\n",
    "\n",
    "def initiateData4File(file,root):\n",
    "    '''Forming the data structure for file\n",
    "    Parameters\n",
    "    ----------\n",
    "    file,root : str\n",
    "        File name and path info\n",
    "    \n",
    "    Returns\n",
    "    -------\n",
    "    fileData : dict\n",
    "        Dictionary containing all info and data for the file\n",
    "    ''' \n",
    "    fileData=dict();fileData['name']=file;fileData['path']=root;\n",
    "    #Low level(LL) features\n",
    "    fileData['NRG']=[];fileData['zcr']=[];#time domain features\n",
    "    fileData['specCentroid']=[];fileData['specFlatness']=[];#frequency domain features\n",
    "    \n",
    "    return fileData\n",
    "\n",
    "def plotFeaturesWithWave(fileData,params,featureName,syncWithWav=True):\n",
    "    '''Plotting frame based features together with the wave signal (all normalized to unit ampl.)\n",
    "    Parameters\n",
    "    ----------\n",
    "    fileData : dict\n",
    "        Dictionary containing all info and data for the file\n",
    "    params : instance of AnalysisParams\n",
    "        Analysis parameters\n",
    "    featureName : str\n",
    "        Name of the feature to be plotted\n",
    "    syncWithWav : bool\n",
    "        Flag for plotting the feature in-sync. with original signal or not \n",
    "    '''\n",
    "    #Reading the wave file\n",
    "    x = ess.MonoLoader(filename = os.path.join(fileData['path'], fileData['name']), sampleRate = params.fs)()\n",
    "    #Normalize maximum amplitude to 1\n",
    "    x=x/np.max(np.abs(x))\n",
    "    t=np.arange(x.size)/float(params.fs)\n",
    "    \n",
    "    fData=fileData[featureName]\n",
    "    if len(fData)>1:\n",
    "        if syncWithWav:\n",
    "            plt.plot(x, label='Sound signal')\n",
    "            #plt.hold(True)\n",
    "            #scaling the feature data to be able to plot in the \n",
    "            if np.max(np.abs(fData))>0:\n",
    "                fData=fData/np.max(np.abs(fData))\n",
    "            plt.plot(np.arange(fData.size)*(x.size/fData.size),fData,'r',label=featureName)\n",
    "        else:\n",
    "            plt.figure(figsize=(12, 4))\n",
    "            plt.subplot(1, 2, 1)\n",
    "            plt.plot(t,x, label='Sound signal')\n",
    "            plt.subplot(1, 2, 2)\n",
    "            plt.plot(fData,'r',label=featureName)\n",
    "        plt.ylabel('amplitude')\n",
    "        plt.axis('tight')\n",
    "        plt.legend(loc='best')\n",
    "        plt.show()\n"
   ]
  },
  {
   "cell_type": "markdown",
   "metadata": {},
   "source": [
    "Functions to be implemented by you are within the next cell\n",
    "\n",
    "Energy:\n",
    "\\begin{equation}\n",
    "energy = \\sum_{n = 0}^{N-1} |x[n]|^2\n",
    "\\end{equation}\n",
    "\n",
    "Zero crossing rate:\n",
    "$$\n",
    "zcr = \\frac{1}{N-1} \\sum_{n=1}^{N-1} | sign(x[n]) - sign(x[n-1]) |\n",
    "$$\n",
    "with the signum function is defined as:\n",
    "$$\n",
    "sign(x[n])  = \\begin{cases}\n",
    "  1, & \\text{ if } x[n] > 0\\\\ \n",
    "  0, & \\text{ if } x[n] = 0\\\\ \n",
    "  -1,&\\text{ if } x[n] < 0\n",
    "\\end{cases}\n",
    "$$\n",
    "Spectral centroid:\n",
    "\\begin{equation}\n",
    "spectralCentroid = \\frac{ \\sum_{k = 0}^{N-1} k|X[k]|}{\\sum_{k = 0}^{N-1} |X[k]|}\n",
    "\\end{equation}\n",
    "Spectral flatness:\n",
    "\\begin{equation}\n",
    "spectralFlatness = \\frac{ (\\prod_{k = 0}^{N-1}{X(k)})^{^{1/N}}}{\\frac{1}{N}\\sum_{k = 0}^{N-1} |X[k]|}\n",
    "\\end{equation}\n",
    "or simplified dB form:\n",
    "\\begin{equation}\n",
    "spectralFlatnessdB = 10*\\frac{1}{N}\\sum_{k = 0}^{N-1} (log_{10}X[k]-log_{10}\\mu)\n",
    "\\end{equation}\n",
    "Spectral spread:\n",
    "\\begin{equation}\n",
    "spectralSpread = \\frac{1}{N}\\sum_{k=0}^{N-1} (X[k] - \\mu)^2\n",
    "\\end{equation}\n",
    "\n",
    "where X is the Discrete Fourier Transform of the time domain signal x (n time index, k frequecny bin index) and $\\mu$ refers to mean of X.\n",
    "\n",
    "$$\\mu = \\frac{1}{N}\\sum_{n=0}^{N-1} X[k] $$\n"
   ]
  },
  {
   "cell_type": "code",
   "execution_count": 2,
   "metadata": {},
   "outputs": [],
   "source": [
    "def computeLLFeatures(fileData,params):\n",
    "    '''Computation of the low-level features\n",
    "    Parameters\n",
    "    ----------\n",
    "    fileData : dict\n",
    "        Dictionary containing all info and data for the file\n",
    "    params : instance of AnalysisParams\n",
    "        Analysis parameters\n",
    "    Modifies\n",
    "    -------\n",
    "    fileData \n",
    "    '''\n",
    "    #Reading the wave file'std_'+feature\n",
    "    x = ess.MonoLoader(filename = os.path.join(fileData['path'], fileData['name']), sampleRate = params.fs)()\n",
    "    #Normalize maximum amplitude to 1\n",
    "    x=x/np.max(np.abs(x))\n",
    "    #Windowing (first converting from msec to number of samples)\n",
    "    windowSize=round(params.fs*params.windowSize/1000)\n",
    "    hopSize=round(params.fs*params.hopSize/1000)\n",
    "    windowFunction=params.windowFunction\n",
    "    w = get_window(windowFunction, windowSize)\n",
    "    startIndexes=np.arange(0, x.size-windowSize,hopSize, dtype=int)\n",
    "    numWindows=startIndexes.size\n",
    "    \n",
    "    #Initializing feature arrays\n",
    "    NRG=np.zeros_like(startIndexes,dtype=float)#initializing the array for keeping energy values\n",
    "    zcr=np.zeros_like(startIndexes,dtype=float)#initializing the array for zero-crossing rate\n",
    "    specCentroid=np.zeros_like(startIndexes,dtype=float)#initializing the array for keeping energy values\n",
    "    specFlatness=np.zeros_like(startIndexes,dtype=float)#initializing the array for zero-crossing rate\n",
    "\n",
    "    #Your code starts here\n",
    "    #Implement actual windowing and feature extraction here    \n",
    "    for k in range(numWindows):\n",
    "        startInd=startIndexes[k]\n",
    "        x_win=x[startInd:startInd+windowSize]*w\n",
    "        NRG[k]=np.sum(np.power(x_win,2))/windowSize#energy(scaled)\n",
    "        #zero-crossing rate(scaled)\n",
    "        signX=np.sign(x_win)\n",
    "        diffSign=signX[1:]-signX[:-1]\n",
    "        zcr[k]=(np.count_nonzero(diffSign!=0)/windowSize)\n",
    "        #Computing log-amplitude spectrum\n",
    "        X=fft(x_win,params.fftN)#computing fft\n",
    "        mX=np.abs(X[:int(params.fftN/2)])#taking first half of the spectrum and its magnitude\n",
    "        mX[mX<np.finfo(float).eps]=np.finfo(float).eps#getting rid of zeros before the next step\n",
    "        #Spectral centroid\n",
    "        specCentroid[k]=(np.dot(mX,np.arange(mX.size))/np.sum(mX))/float(params.fftN)\n",
    "        #Spectral flatness\n",
    "        mean_mX=np.mean(mX)\n",
    "        specFlatness[k]=10.0/params.fftN*np.sum(np.log10(mX)-np.log10(mean_mX))#simplified dB version\n",
    "\n",
    "    #Your code ends here\n",
    "\n",
    "    fileData['NRG']=NRG;\n",
    "    fileData['zcr']=zcr;\n",
    "    fileData['specCentroid']=specCentroid;\n",
    "    fileData['specFlatness']=specFlatness;\n",
    "\n",
    "def computeGlobFeatures(fileData,NRGthreshold=0.05):\n",
    "    '''Computation of the global features from low-level features\n",
    "    An energy threshold (NRGthres*maxEnergy) is applied to exclude features from silence regions\n",
    "\n",
    "    Parameters\n",
    "    ----------\n",
    "    fileData : dict\n",
    "        Dictionary containing all info and data for the file\n",
    "    NRGthresPerc: float\n",
    "        Energy threshold defined as ratio to maximum energy. Ex: 0.05 corresponds to 5%\n",
    "    Modifies\n",
    "    -------\n",
    "    fileData \n",
    "    '''\n",
    "    #Your code starts here\n",
    "    #To remove from feature data those coming from silence regions, let's use an energy threshold (%5 of the max) \n",
    "    NRG=fileData['NRG']\n",
    "    keepIndexes=NRG<(np.max(NRG)*NRGthreshold)\n",
    "    \n",
    "    features=list(fileData.keys())\n",
    "    features.remove('path');features.remove('name')\n",
    "    for feature in features:\n",
    "        data=np.array(fileData[feature][keepIndexes])\n",
    "        fileData['std_'+feature]=np.std(data)\n",
    "        fileData['mean_'+feature]=np.mean(data)\n",
    "    #Your code ends here\n"
   ]
  },
  {
   "cell_type": "code",
   "execution_count": 3,
   "metadata": {},
   "outputs": [
    {
     "name": "stdout",
     "output_type": "stream",
     "text": [
      "Instruments in this dataset:  ['kiss', 'whistle', '256595']\n"
     ]
    }
   ],
   "source": [
    "#Setting analysis parameters\n",
    "# windowSize: milliseconds,hopSize: milliseconds,windowFunction: str ('blackman','hanning',...),fftN: int\n",
    "params=AnalysisParams(30,10,'blackman',2048,44100)\n",
    "soundsDir='../data/freesound/'\n",
    "\n",
    "#Gathering all wave files in a folder(including subfolders)\n",
    "instFiles=dict()#dictionary containing for each instrument a list that carries dictionaries\n",
    "for root, dirs, files in os.walk(soundsDir):\n",
    "    for file in files:\n",
    "        if file.endswith('.wav'):\n",
    "            instrument=file.split('_')[0]\n",
    "            fileData=initiateData4File(file,root)            \n",
    "            files4instrument=instFiles.get(instrument)\n",
    "            if files4instrument==None:\n",
    "                files4instrument=[fileData]\n",
    "            else:\n",
    "                files4instrument.append(fileData)\n",
    "            instFiles[instrument]=files4instrument\n",
    "\n",
    "#Feature extraction for all files of each instrument\n",
    "for instrument, filesData in instFiles.items():\n",
    "    for fileInd in range(len(filesData)):\n",
    "        computeLLFeatures(instFiles[instrument][fileInd],params)\n",
    "        computeGlobFeatures(instFiles[instrument][fileInd])\n",
    "#Instruments list\n",
    "instruments=list(instFiles.keys())\n",
    "print('Instruments in this dataset: ',instruments)\n",
    "\n",
    "#Plotting some samples: one sample for each instrument\n",
    "#for instrument in instruments:\n",
    "#    plotFeaturesWithWave(instFiles[instrument][0],params,'NRG')\n",
    "    \n",
    "#Plotting samples on global feature space\n",
    "features=list(instFiles[instruments[0]][0].keys())\n",
    "globalFeats=set()\n",
    "globalFeatsData=dict()#dictionary including dictionaries instrument->feature->data\n",
    "for instrument in instruments:\n",
    "    featuresData=dict()\n",
    "    for feature in features:\n",
    "        #Collect only global features\n",
    "        if ('std_' in feature) or ('mean_' in feature):\n",
    "            globalFeats.add(feature)#gathering list of global features\n",
    "            data=[]\n",
    "            for fileInd in range(len(instFiles[instrument])):\n",
    "                data.append(instFiles[instrument][fileInd][feature])\n",
    "            featuresData[feature]=data\n",
    "    globalFeatsData[instrument]=featuresData\n"
   ]
  },
  {
   "cell_type": "code",
   "execution_count": 4,
   "metadata": {},
   "outputs": [
    {
     "name": "stdout",
     "output_type": "stream",
     "text": [
      "List of global features:  ['std_zcr', 'mean_specFlatness', 'mean_NRG', 'std_specFlatness', 'std_specCentroid', 'mean_zcr', 'mean_specCentroid', 'std_NRG']\n"
     ]
    },
    {
     "data": {
      "image/png": "[encoded data removed]",
      "text/plain": [
       "<matplotlib.figure.Figure at 0x7ff1337557f0>"
      ]
     },
     "metadata": {},
     "output_type": "display_data"
    },
    {
     "data": {
      "image/png": "[encoded data removed]",
      "text/plain": [
       "<matplotlib.figure.Figure at 0x7ff10a244e10>"
      ]
     },
     "metadata": {},
     "output_type": "display_data"
    },
    {
     "data": {
      "image/png": "[encoded data removed]",
      "text/plain": [
       "<matplotlib.figure.Figure at 0x7ff10a16b7b8>"
      ]
     },
     "metadata": {},
     "output_type": "display_data"
    },
    {
     "data": {
      "image/png": "[encoded data removed]",
      "text/plain": [
       "<matplotlib.figure.Figure at 0x7ff10a0e1f60>"
      ]
     },
     "metadata": {},
     "output_type": "display_data"
    }
   ],
   "source": [
    "globalFeats=list(globalFeats)\n",
    "print('List of global features: ',globalFeats)\n",
    "for feature in ['specFlatness','specCentroid','NRG','zcr']:\n",
    "    instr1='kiss'\n",
    "    instr2='whistle'\n",
    "    plt.plot(globalFeatsData[instr1]['mean_'+feature],globalFeatsData[instr1]['std_'+feature],'ro',label=instr1)\n",
    "    plt.plot(globalFeatsData[instr2]['mean_'+feature],globalFeatsData[instr2]['std_'+feature],'ko',label=instr2)\n",
    "    plt.legend(loc='best')\n",
    "    plt.xlabel(feature+' mean')\n",
    "    plt.ylabel(feature+' std')\n",
    "    plt.show()"
   ]
  },
  {
   "cell_type": "markdown",
   "metadata": {
    "collapsed": true
   },
   "source": [
    "For similar examples from other course material see: \n",
    "1) https://github.com/stevetjoa/stanford-mir/blob/gh-pages/basic_feature_extraction.ipynb , \n",
    "2) https://github.com/stevetjoa/stanford-mir/blob/gh-pages/spectral_features.ipynb"
   ]
  },
  {
   "cell_type": "markdown",
   "metadata": {},
   "source": [
    "### Homework:\n",
    "Use other queries (musical instrument sounds) to collect small sound datasets from FreeSound and spot statistical features where the classes can be easily separated. Explain why those features are suited for such a task based on acoustic characteristics of the type of sounds available in your dataset."
   ]
  },
  {
   "cell_type": "code",
   "execution_count": null,
   "metadata": {},
   "outputs": [],
   "source": []
  }
 ],
 "metadata": {
  "kernelspec": {
   "display_name": "Python 3",
   "language": "python",
   "name": "python3"
  },
  "language_info": {
   "codemirror_mode": {
    "name": "ipython",
    "version": 3
   },
   "file_extension": ".py",
   "mimetype": "text/x-python",
   "name": "python",
   "nbconvert_exporter": "python",
   "pygments_lexer": "ipython3",
   "version": "3.5.2"
  }
 },
 "nbformat": 4,
 "nbformat_minor": 1
}
